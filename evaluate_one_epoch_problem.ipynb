{
 "cells": [
  {
   "cell_type": "code",
   "execution_count": 41,
   "id": "132c61b4",
   "metadata": {},
   "outputs": [],
   "source": [
    "import sys\n",
    "import numpy as np\n",
    "import os\n",
    "import pandas as pd\n",
    "import copy\n",
    "import math\n",
    "from sklearn.preprocessing import MinMaxScaler\n",
    "from model.transformer import get_model\n",
    "import torch.nn as nn\n",
    "\n",
    "def clean_data(df):\n",
    "    def median_income(df):\n",
    "        df.loc[df.renta.isnull(), 'renta'] = df.renta.median(skipna=True)\n",
    "        return df\n",
    "    # provide median income by province\n",
    "    df = df.groupby('nomprov').apply(median_income)\n",
    "    df.loc[df.renta.isnull(), \"renta\"] = df.renta.median(skipna=True)\n",
    "    # set entries whose \"antiguedad\" field is missing as minimum seniority\n",
    "    df.antiguedad = pd.to_numeric(df.antiguedad, errors=\"coerce\")\n",
    "    df.loc[df.antiguedad.isnull(), \"antiguedad\"] = df.antiguedad.min()\n",
    "    df.loc[df.antiguedad < 0, \"antiguedad\"] = 0\n",
    "    df[\"antiguedad\"] = df[\"antiguedad\"].astype(int)\n",
    "    # fix customers age\n",
    "    df[\"age\"] = pd.to_numeric(df[\"age\"], errors=\"coerce\")\n",
    "    df[\"age\"].fillna(df[\"age\"].mean(), inplace=True)\n",
    "    df[\"age\"] = df[\"age\"].astype(int)\n",
    "    # fill missing field \"segmento\" with most frequent one\n",
    "    df.loc[df[\"segmento\"].isnull(), \"segmento\"] = \"03 - UNIVERSITARIO\"\n",
    "    # normalize scalar columns\n",
    "    scale_cols = [\"antiguedad\", \"age\", \"renta\"]\n",
    "    for col in scale_cols:\n",
    "        scaler = MinMaxScaler()\n",
    "        df[col] = scaler.fit_transform(df[[col]])\n",
    "    return df\n",
    "\n",
    "def preprocess(input_file, y_date, seq_len=16, batch_size=32, exclude_date=None, d_model=35):\n",
    "    \"\"\"\n",
    "    Preprocess data and split it in train and test data\n",
    "    :param d_model:\n",
    "    :param input_file: string, path to raw dataset, csv file\n",
    "    :param y_date: string, timestamp use for testing\n",
    "    :param exclude_date: list[string] timestamps to ignore\n",
    "    :return: train_x, train_y (both are np.array)\n",
    "    \"\"\"\n",
    "    months_one_hot = [0 for _ in range(12)]\n",
    "    segmentation_dict = {}\n",
    "    x_users, y_users = {}, {}\n",
    "    df = pd.read_csv(input_file)\n",
    "    df = clean_data(df)\n",
    "    users = []\n",
    "    for i, row in df.iterrows():\n",
    "        if row['fecha_dato'] in exclude_date:\n",
    "            pass\n",
    "        user = row['ncodpers'] # uid\n",
    "        date = row['fecha_dato'].split(\"-\")\n",
    "        year = [int(date[0] == \"2016\")]  # 1=2016, 0=2015 (1)\n",
    "        month = copy.copy(months_one_hot)\n",
    "        month[int(date[1]) - 1] = 1  # months one-hot encoded (12)\n",
    "        items = list(row.values)[26:]  # items are one-hot encoded (22)\n",
    "        items = [int(item) if not math.isnan(item) and item != 'NA' else 0 for item in items]\n",
    "        # one-hot encode segmentation (4)\n",
    "        segmentation = row['segmento']\n",
    "        segmentation_array = [0, 0, 0, 0]\n",
    "        if segmentation not in segmentation_dict.keys():\n",
    "            segmentation_dict[segmentation] = len(segmentation_dict)\n",
    "        segmentation_array[segmentation_dict[segmentation]] = 1\n",
    "        # one-hot encode new-index (1)\n",
    "        #new_index = [1] if row['ind_nuevo'] == 1 else [0]\n",
    "        # seniority + age + income (3) - values features\n",
    "        seniority = float(row['antiguedad'])\n",
    "        age = float(row['age'])\n",
    "        income = float(row['renta'])\n",
    "        value_features = [seniority, age, income]\n",
    "        # put the data together\n",
    "        data = year + month + segmentation_array + value_features + items  # (42) values\n",
    "        if row['fecha_dato'] == y_date and user in x_users.keys():\n",
    "            y_value = [0]\n",
    "            if sum(items) > 0:\n",
    "                y_value = [1]\n",
    "            y_users[user] = y_value\n",
    "            users.append(user)\n",
    "        elif user in x_users.keys():\n",
    "            x_users[user] = np.vstack((x_users[user], np.array(data)))\n",
    "        else:\n",
    "            x_users[user] = np.array(data)\n",
    "\n",
    "    assert len(x_users) == len(y_users)\n",
    "    x_data = []\n",
    "    y_data = []\n",
    "    for user in users:\n",
    "        if np.array(x_users[user]).shape[0] == seq_len:\n",
    "            x_data.append(x_users[user].reshape((seq_len, d_model)))\n",
    "        else:\n",
    "            continue\n",
    "        y_data.append(y_users[user])\n",
    "    x_data = np.stack(x_data)\n",
    "    y_data = np.stack(y_data)\n",
    "    num_users = x_data.shape[0]\n",
    "    x_data = x_data[:num_users - num_users % batch_size]\n",
    "    y_data = y_data[:num_users - num_users % batch_size]\n",
    "\n",
    "    return x_data, y_data"
   ]
  },
  {
   "cell_type": "code",
   "execution_count": 49,
   "id": "54cc1a07",
   "metadata": {},
   "outputs": [],
   "source": [
    "import torch\n",
    "from tqdm import tqdm\n",
    "def evaluate_one_epoch(model, criterion, dataset, device=\"cpu\", owned_items=None):\n",
    "    batch_size = 1\n",
    "    generator = torch.utils.data.DataLoader(\n",
    "        dataset, batch_size=batch_size\n",
    "    )\n",
    "    model.eval()\n",
    "    tot_loss = 0.0\n",
    "    tot_prec1 = 0.0\n",
    "    n_users = 0\n",
    "    j = 0\n",
    "    with torch.no_grad():\n",
    "        for batch, labels in tqdm(generator):\n",
    "            batch, labels = batch.to(device), labels.to(device)\n",
    "            logits = model(batch)\n",
    "            loss = criterion(logits, labels)\n",
    "            tot_loss += loss.item()\n",
    "            recommendations = logits_to_recs(logits.detach().cpu().numpy())\n",
    "            tot_prec1 += precision_k(1, labels, recommendations)\n",
    "            n_users += 1 # not sure\n",
    "        tot_loss /= len(dataset) // batch_size\n",
    "        tot_prec1 /= n_users\n",
    "        metrics_dict = {\"prec1\": tot_prec1}\n",
    "    return tot_loss, metrics_dict\n",
    "\n",
    "def logits_to_recs(logits):\n",
    "    logits = np.squeeze(logits)\n",
    "    recs = np.argsort(logits)[::-1]\n",
    "    return recs\n",
    "\n",
    "def precision_k(k, gt, preds):\n",
    "    \"\"\"\n",
    "    :param k: int, scope of metric\n",
    "    :param gt: list[int], index of ground truth recommendations\n",
    "    :param preds: list[int], index of predicted recommendations\n",
    "    \"\"\"\n",
    "    c = 0\n",
    "    for p in preds[:k]:\n",
    "        if p in gt:\n",
    "            c += 1\n",
    "    return c / k"
   ]
  },
  {
   "cell_type": "code",
   "execution_count": 42,
   "id": "9428147e",
   "metadata": {},
   "outputs": [
    {
     "name": "stderr",
     "output_type": "stream",
     "text": [
      "C:\\Users\\oldwhite\\AppData\\Local\\Temp\\ipykernel_53300\\2878283973.py:48: DtypeWarning: Columns (10,15) have mixed types. Specify dtype option on import or set low_memory=False.\n",
      "  df = pd.read_csv(input_file)\n"
     ]
    }
   ],
   "source": [
    "from torch.utils.data import Dataset\n",
    "class CustomDataset(Dataset):\n",
    "    def __init__(self, train_x, train_y, nrows=None):\n",
    "        if nrows is None:\n",
    "            self.data = [(x, y) for x, y in zip(train_x, train_y)]\n",
    "        else:\n",
    "            self.data = [(x, y) for x, y in zip(train_x[:nrows], train_y[:nrows])]\n",
    "\n",
    "    def __len__(self):\n",
    "        return len(self.data)\n",
    "\n",
    "    def __getitem__(self, index):\n",
    "        x, y = self.data[index]\n",
    "        x = torch.FloatTensor(x)\n",
    "        y = torch.FloatTensor(y)\n",
    "        return x, y\n",
    "\n",
    "args_dataset = 'data/train_reduced.csv'\n",
    "args_seq_len = 16\n",
    "args_batch_size = 64\n",
    "args_d_model = 42\n",
    "#x_train, y_train = preprocess(args_dataset, y_date=\"2016-04-28\", exclude_date=[\"2016-05-28\"], seq_len=args_seq_len, batch_size=args_batch_size, d_model=args_d_model)\n",
    "x_test, y_test = preprocess(args_dataset, y_date=\"2016-05-28\", exclude_date=[\"2015-01-28\"], seq_len=args_seq_len, batch_size=args_batch_size, d_model=args_d_model)\n",
    "test_set = CustomDataset(x_test, y_test, nrows=None)"
   ]
  },
  {
   "cell_type": "code",
   "execution_count": 50,
   "id": "21d747dc",
   "metadata": {},
   "outputs": [
    {
     "name": "stderr",
     "output_type": "stream",
     "text": [
      "100%|██████████| 19968/19968 [01:09<00:00, 289.00it/s]\n"
     ]
    }
   ],
   "source": [
    "criterion = nn.BCEWithLogitsLoss()\n",
    "args_n_items = 1 # not very sure\n",
    "args_d_model = 42\n",
    "args_heads = 7\n",
    "args_dropout = 0.5\n",
    "args_n_layers = 6\n",
    "args_hidden_size = 2048\n",
    "model = get_model(args_n_items, args_d_model, args_heads, args_dropout, args_n_layers, args_hidden_size, None, 'cpu')\n",
    "test_loss, test_metrics = evaluate_one_epoch(model, criterion, test_set, 'cpu', owned_items=None)"
   ]
  },
  {
   "cell_type": "code",
   "execution_count": 51,
   "id": "a17ebc76",
   "metadata": {},
   "outputs": [
    {
     "data": {
      "text/plain": [
       "{'prec1': 0.036207932692307696}"
      ]
     },
     "execution_count": 51,
     "metadata": {},
     "output_type": "execute_result"
    }
   ],
   "source": [
    "test_metrics"
   ]
  },
  {
   "cell_type": "code",
   "execution_count": 34,
   "id": "e2a14804",
   "metadata": {},
   "outputs": [
    {
     "data": {
      "text/plain": [
       "array([1, 1, 1, 1, 1, 1, 1, 1, 1, 1])"
      ]
     },
     "execution_count": 34,
     "metadata": {},
     "output_type": "execute_result"
    }
   ],
   "source": [
    "y_test[:10]"
   ]
  },
  {
   "cell_type": "code",
   "execution_count": 33,
   "id": "a736a585",
   "metadata": {
    "scrolled": true
   },
   "outputs": [
    {
     "name": "stdout",
     "output_type": "stream",
     "text": [
      "tensor([-0.0002])\n",
      "tensor([1.4013e-45])\n",
      "tensor([1.4013e-45])\n",
      "tensor([-0.0002])\n",
      "tensor([0.])\n",
      "tensor([-0.0002])\n",
      "tensor([0.])\n",
      "tensor([1.4013e-45])\n",
      "tensor([1.4013e-45])\n",
      "tensor([0.])\n"
     ]
    }
   ],
   "source": [
    "for i in range(10):\n",
    "    x,y = test_set. __getitem__(i)\n",
    "    print(y)"
   ]
  },
  {
   "cell_type": "code",
   "execution_count": 40,
   "id": "9e82ff68",
   "metadata": {},
   "outputs": [
    {
     "name": "stdout",
     "output_type": "stream",
     "text": [
      "1 tensor([1.0000])\n",
      "[1] tensor([1.])\n",
      "1 tensor([0.])\n",
      "[1] tensor([1.])\n",
      "1 tensor([inf])\n",
      "[1] tensor([1.])\n",
      "1 tensor([1.4013e-45])\n",
      "[1] tensor([1.])\n",
      "1 tensor([1.4013e-45])\n",
      "[1] tensor([1.])\n",
      "1 tensor([1.4013e-45])\n",
      "[1] tensor([1.])\n",
      "1 tensor([-1.8891e+26])\n",
      "[1] tensor([1.])\n",
      "1 tensor([-1.4013e-45])\n",
      "[1] tensor([1.])\n",
      "1 tensor([0.])\n",
      "[1] tensor([1.])\n",
      "1 tensor([-0.0002])\n",
      "[1] tensor([1.])\n"
     ]
    }
   ],
   "source": [
    "for i in range(10):\n",
    "    x,y = test_set.data[i]\n",
    "    #print(y)\n",
    "    z = [y]\n",
    "    print(y, torch.FloatTensor(y))\n",
    "    print(z, torch.FloatTensor(z))\n",
    "    "
   ]
  },
  {
   "cell_type": "code",
   "execution_count": null,
   "id": "9961d865",
   "metadata": {},
   "outputs": [],
   "source": []
  }
 ],
 "metadata": {
  "kernelspec": {
   "display_name": "Python 3 (ipykernel)",
   "language": "python",
   "name": "python3"
  },
  "language_info": {
   "codemirror_mode": {
    "name": "ipython",
    "version": 3
   },
   "file_extension": ".py",
   "mimetype": "text/x-python",
   "name": "python",
   "nbconvert_exporter": "python",
   "pygments_lexer": "ipython3",
   "version": "3.9.12"
  }
 },
 "nbformat": 4,
 "nbformat_minor": 5
}
