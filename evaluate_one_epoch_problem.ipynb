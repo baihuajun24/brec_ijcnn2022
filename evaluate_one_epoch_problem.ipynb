{
 "cells": [
  {
   "cell_type": "code",
   "execution_count": 2,
   "id": "132c61b4",
   "metadata": {},
   "outputs": [],
   "source": [
    "import sys\n",
    "import numpy as np\n",
    "import os\n",
    "import pandas as pd\n",
    "import copy\n",
    "import math\n",
    "from sklearn.preprocessing import MinMaxScaler\n",
    "from model.transformer import get_model\n",
    "import torch.nn as nn\n",
    "\n",
    "def clean_data(df):\n",
    "    def median_income(df):\n",
    "        df.loc[df.renta.isnull(), 'renta'] = df.renta.median(skipna=True)\n",
    "        return df\n",
    "    # provide median income by province\n",
    "    df = df.groupby('nomprov').apply(median_income)\n",
    "    df.loc[df.renta.isnull(), \"renta\"] = df.renta.median(skipna=True)\n",
    "    # set entries whose \"antiguedad\" field is missing as minimum seniority\n",
    "    df.antiguedad = pd.to_numeric(df.antiguedad, errors=\"coerce\")\n",
    "    df.loc[df.antiguedad.isnull(), \"antiguedad\"] = df.antiguedad.min()\n",
    "    df.loc[df.antiguedad < 0, \"antiguedad\"] = 0\n",
    "    df[\"antiguedad\"] = df[\"antiguedad\"].astype(int)\n",
    "    # fix customers age\n",
    "    df[\"age\"] = pd.to_numeric(df[\"age\"], errors=\"coerce\")\n",
    "    df[\"age\"].fillna(df[\"age\"].mean(), inplace=True)\n",
    "    df[\"age\"] = df[\"age\"].astype(int)\n",
    "    # fill missing field \"segmento\" with most frequent one\n",
    "    df.loc[df[\"segmento\"].isnull(), \"segmento\"] = \"03 - UNIVERSITARIO\"\n",
    "    # normalize scalar columns\n",
    "    scale_cols = [\"antiguedad\", \"age\", \"renta\"]\n",
    "    for col in scale_cols:\n",
    "        scaler = MinMaxScaler()\n",
    "        df[col] = scaler.fit_transform(df[[col]])\n",
    "    return df\n",
    "\n",
    "def preprocess(input_file, y_date, seq_len=16, batch_size=32, exclude_date=None, d_model=35):\n",
    "    \"\"\"\n",
    "    Preprocess data and split it in train and test data\n",
    "    :param d_model:\n",
    "    :param input_file: string, path to raw dataset, csv file\n",
    "    :param y_date: string, timestamp use for testing\n",
    "    :param exclude_date: list[string] timestamps to ignore\n",
    "    :return: train_x, train_y (both are np.array)\n",
    "    \"\"\"\n",
    "    months_one_hot = [0 for _ in range(12)]\n",
    "    segmentation_dict = {}\n",
    "    x_users, y_users = {}, {}\n",
    "    df = pd.read_csv(input_file)\n",
    "    df = clean_data(df)\n",
    "    users = []\n",
    "    for i, row in df.iterrows():\n",
    "        if row['fecha_dato'] in exclude_date:\n",
    "            pass\n",
    "        user = row['ncodpers'] # uid\n",
    "        date = row['fecha_dato'].split(\"-\")\n",
    "        year = [int(date[0] == \"2016\")]  # 1=2016, 0=2015 (1)\n",
    "        month = copy.copy(months_one_hot)\n",
    "        month[int(date[1]) - 1] = 1  # months one-hot encoded (12)\n",
    "        items = list(row.values)[26:]  # items are one-hot encoded (22)\n",
    "        items = [int(item) if not math.isnan(item) and item != 'NA' else 0 for item in items]\n",
    "        # one-hot encode segmentation (4)\n",
    "        segmentation = row['segmento']\n",
    "        segmentation_array = [0, 0, 0, 0]\n",
    "        if segmentation not in segmentation_dict.keys():\n",
    "            segmentation_dict[segmentation] = len(segmentation_dict)\n",
    "        segmentation_array[segmentation_dict[segmentation]] = 1\n",
    "        # one-hot encode new-index (1)\n",
    "        #new_index = [1] if row['ind_nuevo'] == 1 else [0]\n",
    "        # seniority + age + income (3) - values features\n",
    "        seniority = float(row['antiguedad'])\n",
    "        age = float(row['age'])\n",
    "        income = float(row['renta'])\n",
    "        value_features = [seniority, age, income]\n",
    "        # put the data together\n",
    "        data = year + month + segmentation_array + value_features + items  # (42) values\n",
    "        if row['fecha_dato'] == y_date and user in x_users.keys():\n",
    "            y_value = [0]\n",
    "            if sum(items) > 0:\n",
    "                y_value = [1]\n",
    "            y_users[user] = y_value\n",
    "            users.append(user)\n",
    "        elif user in x_users.keys():\n",
    "            x_users[user] = np.vstack((x_users[user], np.array(data)))\n",
    "        else:\n",
    "            x_users[user] = np.array(data)\n",
    "\n",
    "    assert len(x_users) == len(y_users)\n",
    "    x_data = []\n",
    "    y_data = []\n",
    "    for user in users:\n",
    "        if np.array(x_users[user]).shape[0] == seq_len:\n",
    "            x_data.append(x_users[user].reshape((seq_len, d_model)))\n",
    "        else:\n",
    "            continue\n",
    "        y_data.append(y_users[user])\n",
    "    x_data = np.stack(x_data)\n",
    "    y_data = np.stack(y_data)\n",
    "    num_users = x_data.shape[0]\n",
    "    x_data = x_data[:num_users - num_users % batch_size]\n",
    "    y_data = y_data[:num_users - num_users % batch_size]\n",
    "\n",
    "    return x_data, y_data"
   ]
  },
  {
   "cell_type": "code",
   "execution_count": 3,
   "id": "54cc1a07",
   "metadata": {},
   "outputs": [],
   "source": [
    "import torch\n",
    "from tqdm import tqdm\n",
    "def logits_to_recs(logits):\n",
    "    logits = np.squeeze(logits)\n",
    "    recs = np.argsort(logits)[::-1]\n",
    "    return recs\n",
    "\n",
    "def precision_k(k, gt, preds):\n",
    "    \"\"\"\n",
    "    :param k: int, scope of metric\n",
    "    :param gt: list[int], index of ground truth recommendations\n",
    "    :param preds: list[int], index of predicted recommendations\n",
    "    \"\"\"\n",
    "    c = 0\n",
    "    for p in preds[:k]:\n",
    "        if p in gt:\n",
    "            c += 1\n",
    "    return c / k"
   ]
  },
  {
   "cell_type": "code",
   "execution_count": 24,
   "id": "7f7fd65f",
   "metadata": {},
   "outputs": [],
   "source": [
    "def evaluate_one_epoch(model, criterion, dataset, device=\"cpu\", owned_items=None):\n",
    "    batch_size = 1\n",
    "    generator = torch.utils.data.DataLoader(\n",
    "        dataset, batch_size=batch_size\n",
    "    )\n",
    "    model.eval()\n",
    "    tot_loss = 0.0\n",
    "    tot_prec1 = 0.0\n",
    "    n_users = 0\n",
    "    j = 0\n",
    "    tp = 0\n",
    "    fp = 0\n",
    "    with torch.no_grad():\n",
    "        for batch, labels in tqdm(generator):\n",
    "            batch, labels = batch.to(device), labels.to(device)\n",
    "            logits = model(batch)\n",
    "            loss = criterion(logits, labels)\n",
    "            tot_loss += loss.item()\n",
    "            recommendations = logits_to_recs(logits.detach().cpu().numpy())\n",
    "            #print(recommendations[0], labels.item())\n",
    "            if recommendations[0] == 1:\n",
    "                print('prediction 1')\n",
    "            if labels.item() == 0.0:\n",
    "                print('label 0')\n",
    "            #else:\n",
    "            #    print(labels.item())\n",
    "            if recommendations[0] == 1 and labels.item() == 1.0:\n",
    "                tp += 1\n",
    "            elif recommendations[0] == 1 and labels.item() == 0.0:\n",
    "                fp += 1\n",
    "        print(tp, fp)\n",
    "        #tot_prec1 += precision_k(1, labels, recommendations)\n",
    "        #n_users += 1 # not sure\n",
    "        #tot_loss /= len(dataset) // batch_size\n",
    "        #tot_prec1 /= n_users\n",
    "        metrics_dict = {\"prec1\": tp/(tp+fp)}\n",
    "    return tot_loss, metrics_dict"
   ]
  },
  {
   "cell_type": "code",
   "execution_count": 4,
   "id": "9428147e",
   "metadata": {},
   "outputs": [
    {
     "name": "stderr",
     "output_type": "stream",
     "text": [
      "C:\\Users\\oldwhite\\AppData\\Local\\Temp\\ipykernel_19100\\2878283973.py:48: DtypeWarning: Columns (10,15) have mixed types. Specify dtype option on import or set low_memory=False.\n",
      "  df = pd.read_csv(input_file)\n"
     ]
    }
   ],
   "source": [
    "from torch.utils.data import Dataset\n",
    "class CustomDataset(Dataset):\n",
    "    def __init__(self, train_x, train_y, nrows=None):\n",
    "        if nrows is None:\n",
    "            self.data = [(x, y) for x, y in zip(train_x, train_y)]\n",
    "        else:\n",
    "            self.data = [(x, y) for x, y in zip(train_x[:nrows], train_y[:nrows])]\n",
    "\n",
    "    def __len__(self):\n",
    "        return len(self.data)\n",
    "\n",
    "    def __getitem__(self, index):\n",
    "        x, y = self.data[index]\n",
    "        x = torch.FloatTensor(x)\n",
    "        y = torch.FloatTensor(y)\n",
    "        return x, y\n",
    "\n",
    "args_dataset = 'data/train_reduced.csv'\n",
    "args_seq_len = 16\n",
    "args_batch_size = 64\n",
    "args_d_model = 42\n",
    "#x_train, y_train = preprocess(args_dataset, y_date=\"2016-04-28\", exclude_date=[\"2016-05-28\"], seq_len=args_seq_len, batch_size=args_batch_size, d_model=args_d_model)\n",
    "x_test, y_test = preprocess(args_dataset, y_date=\"2016-05-28\", exclude_date=[\"2015-01-28\"], seq_len=args_seq_len, batch_size=args_batch_size, d_model=args_d_model)\n",
    "test_set = CustomDataset(x_test, y_test, nrows=None)"
   ]
  },
  {
   "cell_type": "code",
   "execution_count": 27,
   "id": "1b5e58b5",
   "metadata": {},
   "outputs": [
    {
     "data": {
      "text/plain": [
       "array([19245])"
      ]
     },
     "execution_count": 27,
     "metadata": {},
     "output_type": "execute_result"
    }
   ],
   "source": [
    "sum(y_test)"
   ]
  },
  {
   "cell_type": "code",
   "execution_count": 28,
   "id": "538198b6",
   "metadata": {},
   "outputs": [
    {
     "data": {
      "text/plain": [
       "19968"
      ]
     },
     "execution_count": 28,
     "metadata": {},
     "output_type": "execute_result"
    }
   ],
   "source": [
    "len(y_test)"
   ]
  },
  {
   "cell_type": "code",
   "execution_count": 25,
   "id": "21d747dc",
   "metadata": {},
   "outputs": [
    {
     "name": "stderr",
     "output_type": "stream",
     "text": [
      "  0%|          | 61/19968 [00:00<01:08, 291.55it/s]"
     ]
    },
    {
     "name": "stdout",
     "output_type": "stream",
     "text": [
      "label 0\n",
      "label 0\n"
     ]
    },
    {
     "name": "stderr",
     "output_type": "stream",
     "text": [
      "  1%|          | 120/19968 [00:00<01:10, 280.05it/s]"
     ]
    },
    {
     "name": "stdout",
     "output_type": "stream",
     "text": [
      "label 0\n",
      "label 0\n",
      "label 0\n"
     ]
    },
    {
     "name": "stderr",
     "output_type": "stream",
     "text": [
      "  1%|          | 181/19968 [00:00<01:07, 291.73it/s]"
     ]
    },
    {
     "name": "stdout",
     "output_type": "stream",
     "text": [
      "label 0\n",
      "label 0\n",
      "label 0\n",
      "label 0\n",
      "label 0\n"
     ]
    },
    {
     "name": "stderr",
     "output_type": "stream",
     "text": [
      "  1%|▏         | 275/19968 [00:00<01:04, 303.01it/s]"
     ]
    },
    {
     "name": "stdout",
     "output_type": "stream",
     "text": [
      "label 0\n",
      "label 0\n",
      "label 0\n",
      "label 0\n"
     ]
    },
    {
     "name": "stderr",
     "output_type": "stream",
     "text": [
      "  2%|▏         | 337/19968 [00:01<01:05, 302.01it/s]"
     ]
    },
    {
     "name": "stdout",
     "output_type": "stream",
     "text": [
      "label 0\n",
      "label 0\n",
      "label 0\n",
      "label 0\n"
     ]
    },
    {
     "name": "stderr",
     "output_type": "stream",
     "text": [
      "  2%|▏         | 398/19968 [00:01<01:05, 297.97it/s]"
     ]
    },
    {
     "name": "stdout",
     "output_type": "stream",
     "text": [
      "label 0\n",
      "label 0\n",
      "label 0\n",
      "label 0\n",
      "label 0\n",
      "label 0\n",
      "label 0\n",
      "label 0\n",
      "label 0\n"
     ]
    },
    {
     "name": "stderr",
     "output_type": "stream",
     "text": [
      "  2%|▏         | 484/19968 [00:01<01:15, 256.52it/s]"
     ]
    },
    {
     "name": "stdout",
     "output_type": "stream",
     "text": [
      "label 0\n",
      "label 0\n"
     ]
    },
    {
     "name": "stderr",
     "output_type": "stream",
     "text": [
      "\r",
      "  3%|▎         | 510/19968 [00:01<01:16, 253.49it/s]"
     ]
    },
    {
     "name": "stdout",
     "output_type": "stream",
     "text": [
      "label 0\n",
      "label 0\n"
     ]
    },
    {
     "name": "stderr",
     "output_type": "stream",
     "text": [
      "  3%|▎         | 562/19968 [00:02<01:19, 243.60it/s]"
     ]
    },
    {
     "name": "stdout",
     "output_type": "stream",
     "text": [
      "label 0\n",
      "label 0\n",
      "label 0\n",
      "label 0\n",
      "label 0\n",
      "label 0\n"
     ]
    },
    {
     "name": "stderr",
     "output_type": "stream",
     "text": [
      "  3%|▎         | 662/19968 [00:02<01:18, 245.21it/s]"
     ]
    },
    {
     "name": "stdout",
     "output_type": "stream",
     "text": [
      "label 0\n",
      "label 0\n",
      "label 0\n",
      "label 0\n"
     ]
    },
    {
     "name": "stderr",
     "output_type": "stream",
     "text": [
      "  4%|▎         | 739/19968 [00:02<01:18, 245.77it/s]"
     ]
    },
    {
     "name": "stdout",
     "output_type": "stream",
     "text": [
      "label 0\n",
      "label 0\n",
      "label 0\n",
      "label 0"
     ]
    },
    {
     "name": "stderr",
     "output_type": "stream",
     "text": [
      "  4%|▍         | 792/19968 [00:02<01:16, 250.07it/s]"
     ]
    },
    {
     "name": "stdout",
     "output_type": "stream",
     "text": [
      "\n",
      "label 0\n",
      "label 0\n"
     ]
    },
    {
     "name": "stderr",
     "output_type": "stream",
     "text": [
      "  4%|▍         | 843/19968 [00:03<01:16, 248.63it/s]"
     ]
    },
    {
     "name": "stdout",
     "output_type": "stream",
     "text": [
      "label 0\n",
      "label 0\n",
      "label 0\n",
      "label 0\n",
      "label 0\n"
     ]
    },
    {
     "name": "stderr",
     "output_type": "stream",
     "text": [
      "  5%|▍         | 949/19968 [00:03<01:17, 246.80it/s]"
     ]
    },
    {
     "name": "stdout",
     "output_type": "stream",
     "text": [
      "label 0\n",
      "label 0\n",
      "label 0\n",
      "label 0\n",
      "label 0\n",
      "label 0\n"
     ]
    },
    {
     "name": "stderr",
     "output_type": "stream",
     "text": [
      "  5%|▌         | 1026/19968 [00:03<01:16, 246.39it/s]"
     ]
    },
    {
     "name": "stdout",
     "output_type": "stream",
     "text": [
      "label 0\n",
      "label 0\n",
      "label 0\n"
     ]
    },
    {
     "name": "stderr",
     "output_type": "stream",
     "text": [
      "  6%|▌         | 1101/19968 [00:04<01:19, 236.15it/s]"
     ]
    },
    {
     "name": "stdout",
     "output_type": "stream",
     "text": [
      "label 0\n",
      "label 0\n",
      "label 0\n",
      "label 0\n",
      "label 0\n"
     ]
    },
    {
     "name": "stderr",
     "output_type": "stream",
     "text": [
      "  6%|▌         | 1177/19968 [00:04<01:17, 242.14it/s]"
     ]
    },
    {
     "name": "stdout",
     "output_type": "stream",
     "text": [
      "label 0\n",
      "label 0\n",
      "label 0\n"
     ]
    },
    {
     "name": "stderr",
     "output_type": "stream",
     "text": [
      "  6%|▋         | 1288/19968 [00:04<01:08, 272.81it/s]"
     ]
    },
    {
     "name": "stdout",
     "output_type": "stream",
     "text": [
      "label 0\n",
      "label 0\n",
      "label 0\n",
      "label 0\n"
     ]
    },
    {
     "name": "stderr",
     "output_type": "stream",
     "text": [
      "  7%|▋         | 1348/19968 [00:05<01:05, 282.57it/s]"
     ]
    },
    {
     "name": "stdout",
     "output_type": "stream",
     "text": [
      "label 0\n",
      "label 0\n",
      "label 0\n",
      "label 0\n",
      "label 0\n"
     ]
    },
    {
     "name": "stderr",
     "output_type": "stream",
     "text": [
      "  7%|▋         | 1440/19968 [00:05<01:02, 294.92it/s]"
     ]
    },
    {
     "name": "stdout",
     "output_type": "stream",
     "text": [
      "label 0\n",
      "label 0\n",
      "label 0\n",
      "label 0\n"
     ]
    },
    {
     "name": "stderr",
     "output_type": "stream",
     "text": [
      "  8%|▊         | 1500/19968 [00:05<01:04, 286.09it/s]"
     ]
    },
    {
     "name": "stdout",
     "output_type": "stream",
     "text": [
      "label 0\n",
      "label 0\n",
      "label 0\n"
     ]
    },
    {
     "name": "stderr",
     "output_type": "stream",
     "text": [
      "  8%|▊         | 1587/19968 [00:05<01:05, 279.77it/s]"
     ]
    },
    {
     "name": "stdout",
     "output_type": "stream",
     "text": [
      "label 0\n",
      "label 0\n",
      "label 0\n",
      "label 0\n"
     ]
    },
    {
     "name": "stderr",
     "output_type": "stream",
     "text": [
      "  8%|▊         | 1674/19968 [00:06<01:04, 282.64it/s]"
     ]
    },
    {
     "name": "stdout",
     "output_type": "stream",
     "text": [
      "label 0\n",
      "label 0\n",
      "label 0\n",
      "label 0\n"
     ]
    },
    {
     "name": "stderr",
     "output_type": "stream",
     "text": [
      "  9%|▊         | 1733/19968 [00:06<01:04, 284.22it/s]"
     ]
    },
    {
     "name": "stdout",
     "output_type": "stream",
     "text": [
      "label 0\n",
      "label 0\n",
      "label 0\n",
      "label 0\n",
      "label 0\n"
     ]
    },
    {
     "name": "stderr",
     "output_type": "stream",
     "text": [
      "  9%|▉         | 1793/19968 [00:06<01:02, 291.10it/s]"
     ]
    },
    {
     "name": "stdout",
     "output_type": "stream",
     "text": [
      "label 0\n",
      "label 0\n",
      "label 0\n",
      "label 0\n",
      "label 0\n",
      "label 0\n"
     ]
    },
    {
     "name": "stderr",
     "output_type": "stream",
     "text": [
      "  9%|▉         | 1855/19968 [00:06<01:07, 268.22it/s]"
     ]
    },
    {
     "name": "stdout",
     "output_type": "stream",
     "text": [
      "label 0\n",
      "label 0\n",
      "label 0\n",
      "label 0\n",
      "label 0\n"
     ]
    },
    {
     "name": "stderr",
     "output_type": "stream",
     "text": [
      "\n"
     ]
    },
    {
     "ename": "KeyboardInterrupt",
     "evalue": "",
     "output_type": "error",
     "traceback": [
      "\u001b[1;31m---------------------------------------------------------------------------\u001b[0m",
      "\u001b[1;31mKeyboardInterrupt\u001b[0m                         Traceback (most recent call last)",
      "Input \u001b[1;32mIn [25]\u001b[0m, in \u001b[0;36m<cell line: 9>\u001b[1;34m()\u001b[0m\n\u001b[0;32m      7\u001b[0m args_hidden_size \u001b[38;5;241m=\u001b[39m \u001b[38;5;241m2048\u001b[39m\n\u001b[0;32m      8\u001b[0m model \u001b[38;5;241m=\u001b[39m get_model(args_n_items, args_d_model, args_heads, args_dropout, args_n_layers, args_hidden_size, \u001b[38;5;28;01mNone\u001b[39;00m, \u001b[38;5;124m'\u001b[39m\u001b[38;5;124mcpu\u001b[39m\u001b[38;5;124m'\u001b[39m)\n\u001b[1;32m----> 9\u001b[0m test_loss, test_metrics \u001b[38;5;241m=\u001b[39m \u001b[43mevaluate_one_epoch\u001b[49m\u001b[43m(\u001b[49m\u001b[43mmodel\u001b[49m\u001b[43m,\u001b[49m\u001b[43m \u001b[49m\u001b[43mcriterion\u001b[49m\u001b[43m,\u001b[49m\u001b[43m \u001b[49m\u001b[43mtest_set\u001b[49m\u001b[43m,\u001b[49m\u001b[43m \u001b[49m\u001b[38;5;124;43m'\u001b[39;49m\u001b[38;5;124;43mcpu\u001b[39;49m\u001b[38;5;124;43m'\u001b[39;49m\u001b[43m,\u001b[49m\u001b[43m \u001b[49m\u001b[43mowned_items\u001b[49m\u001b[38;5;241;43m=\u001b[39;49m\u001b[38;5;28;43;01mNone\u001b[39;49;00m\u001b[43m)\u001b[49m\n",
      "Input \u001b[1;32mIn [24]\u001b[0m, in \u001b[0;36mevaluate_one_epoch\u001b[1;34m(model, criterion, dataset, device, owned_items)\u001b[0m\n\u001b[0;32m     14\u001b[0m \u001b[38;5;28;01mfor\u001b[39;00m batch, labels \u001b[38;5;129;01min\u001b[39;00m tqdm(generator):\n\u001b[0;32m     15\u001b[0m     batch, labels \u001b[38;5;241m=\u001b[39m batch\u001b[38;5;241m.\u001b[39mto(device), labels\u001b[38;5;241m.\u001b[39mto(device)\n\u001b[1;32m---> 16\u001b[0m     logits \u001b[38;5;241m=\u001b[39m \u001b[43mmodel\u001b[49m\u001b[43m(\u001b[49m\u001b[43mbatch\u001b[49m\u001b[43m)\u001b[49m\n\u001b[0;32m     17\u001b[0m     loss \u001b[38;5;241m=\u001b[39m criterion(logits, labels)\n\u001b[0;32m     18\u001b[0m     tot_loss \u001b[38;5;241m+\u001b[39m\u001b[38;5;241m=\u001b[39m loss\u001b[38;5;241m.\u001b[39mitem()\n",
      "File \u001b[1;32m~\\miniconda3\\lib\\site-packages\\torch\\nn\\modules\\module.py:1130\u001b[0m, in \u001b[0;36mModule._call_impl\u001b[1;34m(self, *input, **kwargs)\u001b[0m\n\u001b[0;32m   1126\u001b[0m \u001b[38;5;66;03m# If we don't have any hooks, we want to skip the rest of the logic in\u001b[39;00m\n\u001b[0;32m   1127\u001b[0m \u001b[38;5;66;03m# this function, and just call forward.\u001b[39;00m\n\u001b[0;32m   1128\u001b[0m \u001b[38;5;28;01mif\u001b[39;00m \u001b[38;5;129;01mnot\u001b[39;00m (\u001b[38;5;28mself\u001b[39m\u001b[38;5;241m.\u001b[39m_backward_hooks \u001b[38;5;129;01mor\u001b[39;00m \u001b[38;5;28mself\u001b[39m\u001b[38;5;241m.\u001b[39m_forward_hooks \u001b[38;5;129;01mor\u001b[39;00m \u001b[38;5;28mself\u001b[39m\u001b[38;5;241m.\u001b[39m_forward_pre_hooks \u001b[38;5;129;01mor\u001b[39;00m _global_backward_hooks\n\u001b[0;32m   1129\u001b[0m         \u001b[38;5;129;01mor\u001b[39;00m _global_forward_hooks \u001b[38;5;129;01mor\u001b[39;00m _global_forward_pre_hooks):\n\u001b[1;32m-> 1130\u001b[0m     \u001b[38;5;28;01mreturn\u001b[39;00m forward_call(\u001b[38;5;241m*\u001b[39m\u001b[38;5;28minput\u001b[39m, \u001b[38;5;241m*\u001b[39m\u001b[38;5;241m*\u001b[39mkwargs)\n\u001b[0;32m   1131\u001b[0m \u001b[38;5;66;03m# Do not call functions when jit is used\u001b[39;00m\n\u001b[0;32m   1132\u001b[0m full_backward_hooks, non_full_backward_hooks \u001b[38;5;241m=\u001b[39m [], []\n",
      "File \u001b[1;32mD:\\study\\brec_ijcnn2022\\model\\transformer.py:134\u001b[0m, in \u001b[0;36mTransformer.forward\u001b[1;34m(self, x, mask, get_embedding, get_scores)\u001b[0m\n\u001b[0;32m    132\u001b[0m \u001b[38;5;28;01mdef\u001b[39;00m \u001b[38;5;21mforward\u001b[39m(\u001b[38;5;28mself\u001b[39m, x, mask\u001b[38;5;241m=\u001b[39m\u001b[38;5;28;01mNone\u001b[39;00m, get_embedding\u001b[38;5;241m=\u001b[39m\u001b[38;5;28;01mFalse\u001b[39;00m, get_scores\u001b[38;5;241m=\u001b[39m\u001b[38;5;28;01mFalse\u001b[39;00m):\n\u001b[0;32m    133\u001b[0m     \u001b[38;5;28;01massert\u001b[39;00m get_embedding \u001b[38;5;241m+\u001b[39m get_scores \u001b[38;5;241m<\u001b[39m \u001b[38;5;241m2\u001b[39m\n\u001b[1;32m--> 134\u001b[0m     x_embedding, scores \u001b[38;5;241m=\u001b[39m \u001b[38;5;28;43mself\u001b[39;49m\u001b[38;5;241;43m.\u001b[39;49m\u001b[43mencoder\u001b[49m\u001b[43m(\u001b[49m\u001b[43mx\u001b[49m\u001b[43m,\u001b[49m\u001b[43m \u001b[49m\u001b[43mmask\u001b[49m\u001b[43m)\u001b[49m\n\u001b[0;32m    135\u001b[0m     x \u001b[38;5;241m=\u001b[39m torch\u001b[38;5;241m.\u001b[39mmean(x_embedding, dim\u001b[38;5;241m=\u001b[39m\u001b[38;5;241m-\u001b[39m\u001b[38;5;241m2\u001b[39m)\n\u001b[0;32m    136\u001b[0m     output \u001b[38;5;241m=\u001b[39m \u001b[38;5;28mself\u001b[39m\u001b[38;5;241m.\u001b[39mout(x)\n",
      "File \u001b[1;32m~\\miniconda3\\lib\\site-packages\\torch\\nn\\modules\\module.py:1130\u001b[0m, in \u001b[0;36mModule._call_impl\u001b[1;34m(self, *input, **kwargs)\u001b[0m\n\u001b[0;32m   1126\u001b[0m \u001b[38;5;66;03m# If we don't have any hooks, we want to skip the rest of the logic in\u001b[39;00m\n\u001b[0;32m   1127\u001b[0m \u001b[38;5;66;03m# this function, and just call forward.\u001b[39;00m\n\u001b[0;32m   1128\u001b[0m \u001b[38;5;28;01mif\u001b[39;00m \u001b[38;5;129;01mnot\u001b[39;00m (\u001b[38;5;28mself\u001b[39m\u001b[38;5;241m.\u001b[39m_backward_hooks \u001b[38;5;129;01mor\u001b[39;00m \u001b[38;5;28mself\u001b[39m\u001b[38;5;241m.\u001b[39m_forward_hooks \u001b[38;5;129;01mor\u001b[39;00m \u001b[38;5;28mself\u001b[39m\u001b[38;5;241m.\u001b[39m_forward_pre_hooks \u001b[38;5;129;01mor\u001b[39;00m _global_backward_hooks\n\u001b[0;32m   1129\u001b[0m         \u001b[38;5;129;01mor\u001b[39;00m _global_forward_hooks \u001b[38;5;129;01mor\u001b[39;00m _global_forward_pre_hooks):\n\u001b[1;32m-> 1130\u001b[0m     \u001b[38;5;28;01mreturn\u001b[39;00m forward_call(\u001b[38;5;241m*\u001b[39m\u001b[38;5;28minput\u001b[39m, \u001b[38;5;241m*\u001b[39m\u001b[38;5;241m*\u001b[39mkwargs)\n\u001b[0;32m   1131\u001b[0m \u001b[38;5;66;03m# Do not call functions when jit is used\u001b[39;00m\n\u001b[0;32m   1132\u001b[0m full_backward_hooks, non_full_backward_hooks \u001b[38;5;241m=\u001b[39m [], []\n",
      "File \u001b[1;32mD:\\study\\brec_ijcnn2022\\model\\transformer.py:121\u001b[0m, in \u001b[0;36mEncoder.forward\u001b[1;34m(self, x, mask)\u001b[0m\n\u001b[0;32m    119\u001b[0m scores \u001b[38;5;241m=\u001b[39m [\u001b[38;5;28;01mNone\u001b[39;00m] \u001b[38;5;241m*\u001b[39m \u001b[38;5;28mself\u001b[39m\u001b[38;5;241m.\u001b[39mN\n\u001b[0;32m    120\u001b[0m \u001b[38;5;28;01mfor\u001b[39;00m i \u001b[38;5;129;01min\u001b[39;00m \u001b[38;5;28mrange\u001b[39m(\u001b[38;5;28mself\u001b[39m\u001b[38;5;241m.\u001b[39mN):\n\u001b[1;32m--> 121\u001b[0m     x, scores[i] \u001b[38;5;241m=\u001b[39m \u001b[38;5;28;43mself\u001b[39;49m\u001b[38;5;241;43m.\u001b[39;49m\u001b[43mlayers\u001b[49m\u001b[43m[\u001b[49m\u001b[43mi\u001b[49m\u001b[43m]\u001b[49m\u001b[43m(\u001b[49m\u001b[43mx\u001b[49m\u001b[43m,\u001b[49m\u001b[43m \u001b[49m\u001b[43mmask\u001b[49m\u001b[43m)\u001b[49m\n\u001b[0;32m    122\u001b[0m \u001b[38;5;28;01mreturn\u001b[39;00m \u001b[38;5;28mself\u001b[39m\u001b[38;5;241m.\u001b[39mnorm(x), scores\n",
      "File \u001b[1;32m~\\miniconda3\\lib\\site-packages\\torch\\nn\\modules\\module.py:1130\u001b[0m, in \u001b[0;36mModule._call_impl\u001b[1;34m(self, *input, **kwargs)\u001b[0m\n\u001b[0;32m   1126\u001b[0m \u001b[38;5;66;03m# If we don't have any hooks, we want to skip the rest of the logic in\u001b[39;00m\n\u001b[0;32m   1127\u001b[0m \u001b[38;5;66;03m# this function, and just call forward.\u001b[39;00m\n\u001b[0;32m   1128\u001b[0m \u001b[38;5;28;01mif\u001b[39;00m \u001b[38;5;129;01mnot\u001b[39;00m (\u001b[38;5;28mself\u001b[39m\u001b[38;5;241m.\u001b[39m_backward_hooks \u001b[38;5;129;01mor\u001b[39;00m \u001b[38;5;28mself\u001b[39m\u001b[38;5;241m.\u001b[39m_forward_hooks \u001b[38;5;129;01mor\u001b[39;00m \u001b[38;5;28mself\u001b[39m\u001b[38;5;241m.\u001b[39m_forward_pre_hooks \u001b[38;5;129;01mor\u001b[39;00m _global_backward_hooks\n\u001b[0;32m   1129\u001b[0m         \u001b[38;5;129;01mor\u001b[39;00m _global_forward_hooks \u001b[38;5;129;01mor\u001b[39;00m _global_forward_pre_hooks):\n\u001b[1;32m-> 1130\u001b[0m     \u001b[38;5;28;01mreturn\u001b[39;00m forward_call(\u001b[38;5;241m*\u001b[39m\u001b[38;5;28minput\u001b[39m, \u001b[38;5;241m*\u001b[39m\u001b[38;5;241m*\u001b[39mkwargs)\n\u001b[0;32m   1131\u001b[0m \u001b[38;5;66;03m# Do not call functions when jit is used\u001b[39;00m\n\u001b[0;32m   1132\u001b[0m full_backward_hooks, non_full_backward_hooks \u001b[38;5;241m=\u001b[39m [], []\n",
      "File \u001b[1;32mD:\\study\\brec_ijcnn2022\\model\\transformer.py:102\u001b[0m, in \u001b[0;36mEncoderLayer.forward\u001b[1;34m(self, x, mask)\u001b[0m\n\u001b[0;32m    100\u001b[0m x \u001b[38;5;241m=\u001b[39m x \u001b[38;5;241m+\u001b[39m \u001b[38;5;28mself\u001b[39m\u001b[38;5;241m.\u001b[39mdropout_1(output)\n\u001b[0;32m    101\u001b[0m x2 \u001b[38;5;241m=\u001b[39m \u001b[38;5;28mself\u001b[39m\u001b[38;5;241m.\u001b[39mnorm_2(x)\n\u001b[1;32m--> 102\u001b[0m x \u001b[38;5;241m=\u001b[39m x \u001b[38;5;241m+\u001b[39m \u001b[38;5;28mself\u001b[39m\u001b[38;5;241m.\u001b[39mdropout_2(\u001b[38;5;28;43mself\u001b[39;49m\u001b[38;5;241;43m.\u001b[39;49m\u001b[43mff\u001b[49m\u001b[43m(\u001b[49m\u001b[43mx2\u001b[49m\u001b[43m)\u001b[49m)\n\u001b[0;32m    103\u001b[0m \u001b[38;5;28;01mreturn\u001b[39;00m x, scores\n",
      "File \u001b[1;32m~\\miniconda3\\lib\\site-packages\\torch\\nn\\modules\\module.py:1130\u001b[0m, in \u001b[0;36mModule._call_impl\u001b[1;34m(self, *input, **kwargs)\u001b[0m\n\u001b[0;32m   1126\u001b[0m \u001b[38;5;66;03m# If we don't have any hooks, we want to skip the rest of the logic in\u001b[39;00m\n\u001b[0;32m   1127\u001b[0m \u001b[38;5;66;03m# this function, and just call forward.\u001b[39;00m\n\u001b[0;32m   1128\u001b[0m \u001b[38;5;28;01mif\u001b[39;00m \u001b[38;5;129;01mnot\u001b[39;00m (\u001b[38;5;28mself\u001b[39m\u001b[38;5;241m.\u001b[39m_backward_hooks \u001b[38;5;129;01mor\u001b[39;00m \u001b[38;5;28mself\u001b[39m\u001b[38;5;241m.\u001b[39m_forward_hooks \u001b[38;5;129;01mor\u001b[39;00m \u001b[38;5;28mself\u001b[39m\u001b[38;5;241m.\u001b[39m_forward_pre_hooks \u001b[38;5;129;01mor\u001b[39;00m _global_backward_hooks\n\u001b[0;32m   1129\u001b[0m         \u001b[38;5;129;01mor\u001b[39;00m _global_forward_hooks \u001b[38;5;129;01mor\u001b[39;00m _global_forward_pre_hooks):\n\u001b[1;32m-> 1130\u001b[0m     \u001b[38;5;28;01mreturn\u001b[39;00m forward_call(\u001b[38;5;241m*\u001b[39m\u001b[38;5;28minput\u001b[39m, \u001b[38;5;241m*\u001b[39m\u001b[38;5;241m*\u001b[39mkwargs)\n\u001b[0;32m   1131\u001b[0m \u001b[38;5;66;03m# Do not call functions when jit is used\u001b[39;00m\n\u001b[0;32m   1132\u001b[0m full_backward_hooks, non_full_backward_hooks \u001b[38;5;241m=\u001b[39m [], []\n",
      "File \u001b[1;32mD:\\study\\brec_ijcnn2022\\model\\transformer.py:82\u001b[0m, in \u001b[0;36mFeedForward.forward\u001b[1;34m(self, x)\u001b[0m\n\u001b[0;32m     80\u001b[0m \u001b[38;5;28;01mdef\u001b[39;00m \u001b[38;5;21mforward\u001b[39m(\u001b[38;5;28mself\u001b[39m, x):\n\u001b[0;32m     81\u001b[0m     x \u001b[38;5;241m=\u001b[39m \u001b[38;5;28mself\u001b[39m\u001b[38;5;241m.\u001b[39mdropout(F\u001b[38;5;241m.\u001b[39mrelu(\u001b[38;5;28mself\u001b[39m\u001b[38;5;241m.\u001b[39mlinear_1(x)))\n\u001b[1;32m---> 82\u001b[0m     x \u001b[38;5;241m=\u001b[39m \u001b[38;5;28;43mself\u001b[39;49m\u001b[38;5;241;43m.\u001b[39;49m\u001b[43mlinear_2\u001b[49m\u001b[43m(\u001b[49m\u001b[43mx\u001b[49m\u001b[43m)\u001b[49m\n\u001b[0;32m     83\u001b[0m     \u001b[38;5;28;01mreturn\u001b[39;00m x\n",
      "File \u001b[1;32m~\\miniconda3\\lib\\site-packages\\torch\\nn\\modules\\module.py:1130\u001b[0m, in \u001b[0;36mModule._call_impl\u001b[1;34m(self, *input, **kwargs)\u001b[0m\n\u001b[0;32m   1126\u001b[0m \u001b[38;5;66;03m# If we don't have any hooks, we want to skip the rest of the logic in\u001b[39;00m\n\u001b[0;32m   1127\u001b[0m \u001b[38;5;66;03m# this function, and just call forward.\u001b[39;00m\n\u001b[0;32m   1128\u001b[0m \u001b[38;5;28;01mif\u001b[39;00m \u001b[38;5;129;01mnot\u001b[39;00m (\u001b[38;5;28mself\u001b[39m\u001b[38;5;241m.\u001b[39m_backward_hooks \u001b[38;5;129;01mor\u001b[39;00m \u001b[38;5;28mself\u001b[39m\u001b[38;5;241m.\u001b[39m_forward_hooks \u001b[38;5;129;01mor\u001b[39;00m \u001b[38;5;28mself\u001b[39m\u001b[38;5;241m.\u001b[39m_forward_pre_hooks \u001b[38;5;129;01mor\u001b[39;00m _global_backward_hooks\n\u001b[0;32m   1129\u001b[0m         \u001b[38;5;129;01mor\u001b[39;00m _global_forward_hooks \u001b[38;5;129;01mor\u001b[39;00m _global_forward_pre_hooks):\n\u001b[1;32m-> 1130\u001b[0m     \u001b[38;5;28;01mreturn\u001b[39;00m forward_call(\u001b[38;5;241m*\u001b[39m\u001b[38;5;28minput\u001b[39m, \u001b[38;5;241m*\u001b[39m\u001b[38;5;241m*\u001b[39mkwargs)\n\u001b[0;32m   1131\u001b[0m \u001b[38;5;66;03m# Do not call functions when jit is used\u001b[39;00m\n\u001b[0;32m   1132\u001b[0m full_backward_hooks, non_full_backward_hooks \u001b[38;5;241m=\u001b[39m [], []\n",
      "File \u001b[1;32m~\\miniconda3\\lib\\site-packages\\torch\\nn\\modules\\linear.py:114\u001b[0m, in \u001b[0;36mLinear.forward\u001b[1;34m(self, input)\u001b[0m\n\u001b[0;32m    113\u001b[0m \u001b[38;5;28;01mdef\u001b[39;00m \u001b[38;5;21mforward\u001b[39m(\u001b[38;5;28mself\u001b[39m, \u001b[38;5;28minput\u001b[39m: Tensor) \u001b[38;5;241m-\u001b[39m\u001b[38;5;241m>\u001b[39m Tensor:\n\u001b[1;32m--> 114\u001b[0m     \u001b[38;5;28;01mreturn\u001b[39;00m \u001b[43mF\u001b[49m\u001b[38;5;241;43m.\u001b[39;49m\u001b[43mlinear\u001b[49m\u001b[43m(\u001b[49m\u001b[38;5;28;43minput\u001b[39;49m\u001b[43m,\u001b[49m\u001b[43m \u001b[49m\u001b[38;5;28;43mself\u001b[39;49m\u001b[38;5;241;43m.\u001b[39;49m\u001b[43mweight\u001b[49m\u001b[43m,\u001b[49m\u001b[43m \u001b[49m\u001b[38;5;28;43mself\u001b[39;49m\u001b[38;5;241;43m.\u001b[39;49m\u001b[43mbias\u001b[49m\u001b[43m)\u001b[49m\n",
      "\u001b[1;31mKeyboardInterrupt\u001b[0m: "
     ]
    }
   ],
   "source": [
    "criterion = nn.BCEWithLogitsLoss()\n",
    "args_n_items = 1 # not very sure\n",
    "args_d_model = 42\n",
    "args_heads = 7\n",
    "args_dropout = 0.5\n",
    "args_n_layers = 6\n",
    "args_hidden_size = 2048\n",
    "model = get_model(args_n_items, args_d_model, args_heads, args_dropout, args_n_layers, args_hidden_size, None, 'cpu')\n",
    "test_loss, test_metrics = evaluate_one_epoch(model, criterion, test_set, 'cpu', owned_items=None)"
   ]
  },
  {
   "cell_type": "code",
   "execution_count": 6,
   "id": "a17ebc76",
   "metadata": {},
   "outputs": [
    {
     "data": {
      "text/plain": [
       "{'prec1': 0.036207932692307696}"
      ]
     },
     "execution_count": 6,
     "metadata": {},
     "output_type": "execute_result"
    }
   ],
   "source": [
    "test_metrics"
   ]
  },
  {
   "cell_type": "code",
   "execution_count": 34,
   "id": "e2a14804",
   "metadata": {},
   "outputs": [
    {
     "data": {
      "text/plain": [
       "array([1, 1, 1, 1, 1, 1, 1, 1, 1, 1])"
      ]
     },
     "execution_count": 34,
     "metadata": {},
     "output_type": "execute_result"
    }
   ],
   "source": [
    "y_test[:10]"
   ]
  },
  {
   "cell_type": "code",
   "execution_count": 33,
   "id": "a736a585",
   "metadata": {
    "scrolled": true
   },
   "outputs": [
    {
     "name": "stdout",
     "output_type": "stream",
     "text": [
      "tensor([-0.0002])\n",
      "tensor([1.4013e-45])\n",
      "tensor([1.4013e-45])\n",
      "tensor([-0.0002])\n",
      "tensor([0.])\n",
      "tensor([-0.0002])\n",
      "tensor([0.])\n",
      "tensor([1.4013e-45])\n",
      "tensor([1.4013e-45])\n",
      "tensor([0.])\n"
     ]
    }
   ],
   "source": [
    "for i in range(10):\n",
    "    x,y = test_set. __getitem__(i)\n",
    "    print(y)"
   ]
  },
  {
   "cell_type": "code",
   "execution_count": 40,
   "id": "9e82ff68",
   "metadata": {},
   "outputs": [
    {
     "name": "stdout",
     "output_type": "stream",
     "text": [
      "1 tensor([1.0000])\n",
      "[1] tensor([1.])\n",
      "1 tensor([0.])\n",
      "[1] tensor([1.])\n",
      "1 tensor([inf])\n",
      "[1] tensor([1.])\n",
      "1 tensor([1.4013e-45])\n",
      "[1] tensor([1.])\n",
      "1 tensor([1.4013e-45])\n",
      "[1] tensor([1.])\n",
      "1 tensor([1.4013e-45])\n",
      "[1] tensor([1.])\n",
      "1 tensor([-1.8891e+26])\n",
      "[1] tensor([1.])\n",
      "1 tensor([-1.4013e-45])\n",
      "[1] tensor([1.])\n",
      "1 tensor([0.])\n",
      "[1] tensor([1.])\n",
      "1 tensor([-0.0002])\n",
      "[1] tensor([1.])\n"
     ]
    }
   ],
   "source": [
    "for i in range(10):\n",
    "    x,y = test_set.data[i]\n",
    "    #print(y)\n",
    "    z = [y]\n",
    "    print(y, torch.FloatTensor(y))\n",
    "    print(z, torch.FloatTensor(z))\n",
    "    "
   ]
  },
  {
   "cell_type": "code",
   "execution_count": null,
   "id": "9961d865",
   "metadata": {},
   "outputs": [],
   "source": []
  }
 ],
 "metadata": {
  "kernelspec": {
   "display_name": "Python 3 (ipykernel)",
   "language": "python",
   "name": "python3"
  },
  "language_info": {
   "codemirror_mode": {
    "name": "ipython",
    "version": 3
   },
   "file_extension": ".py",
   "mimetype": "text/x-python",
   "name": "python",
   "nbconvert_exporter": "python",
   "pygments_lexer": "ipython3",
   "version": "3.9.12"
  }
 },
 "nbformat": 4,
 "nbformat_minor": 5
}
