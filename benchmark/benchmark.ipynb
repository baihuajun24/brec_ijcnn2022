{
 "nbformat": 4,
 "nbformat_minor": 0,
 "metadata": {
  "colab": {
   "name": "Untitled0.ipynb",
   "private_outputs": true,
   "provenance": [],
   "collapsed_sections": [],
   "authorship_tag": "ABX9TyM1mmspo3KojnWrE5xIcGOQ"
  },
  "kernelspec": {
   "name": "python3",
   "display_name": "Python 3"
  },
  "language_info": {
   "name": "python"
  },
  "accelerator": "GPU"
 },
 "cells": [
  {
   "cell_type": "code",
   "metadata": {
    "id": "gXLcbjKGirjW"
   },
   "source": [
    "from google.colab import drive\n",
    "drive.mount('/content/drive')"
   ],
   "execution_count": null,
   "outputs": []
  },
  {
   "cell_type": "code",
   "metadata": {
    "id": "0GOxWGj9jaIP"
   },
   "source": [
    "%cd /content/drive/My\\ Drive/recosys_benchmark"
   ],
   "execution_count": null,
   "outputs": []
  },
  {
   "cell_type": "code",
   "metadata": {
    "id": "U8jAJpollaWi"
   },
   "source": [
    "%pip install -r requirements.txt"
   ],
   "execution_count": null,
   "outputs": []
  },
  {
   "cell_type": "code",
   "metadata": {
    "id": "vpCCEX0sThd7"
   },
   "source": [
    "!pip install ipython-autotime\n",
    "%load_ext autotime"
   ],
   "execution_count": null,
   "outputs": []
  },
  {
   "cell_type": "markdown",
   "metadata": {
    "id": "1II8B2xv7buF"
   },
   "source": [
    "Bert4Rec"
   ]
  },
  {
   "cell_type": "code",
   "metadata": {
    "id": "OvgOWQJ0T9Ui"
   },
   "source": [
    "!python run.py --templates train_bert --dataset_code santander --num_epochs 20 --test_negative_sample_size 9 --metric_ks 1 5 --best_metric NDCG@5 --max_len 70"
   ],
   "execution_count": null,
   "outputs": []
  },
  {
   "cell_type": "code",
   "metadata": {
    "id": "QUS92nognH9V"
   },
   "source": [
    "!python make_predictions.py --templates train_bert --pretrained_weights experiments/test/bert/models/best_model.pth --dataset_code santander --max_len 70  --test_negative_sample_size 9"
   ],
   "execution_count": null,
   "outputs": []
  },
  {
   "cell_type": "markdown",
   "metadata": {
    "id": "3n6lCn4x7WoM"
   },
   "source": [
    "SAS"
   ]
  },
  {
   "cell_type": "code",
   "metadata": {
    "id": "MqIR7oYXzNoA"
   },
   "source": [
    "!python run.py --templates train_sas --dataset_code santander --num_epochs 5 --test_negative_sample_size 9 --train_negative_sample_size 1000 --metric_ks 1 5 --best_metric NDCG@5 --max_len 70"
   ],
   "execution_count": null,
   "outputs": []
  },
  {
   "cell_type": "code",
   "metadata": {
    "id": "P5Di7FyF7pM2"
   },
   "source": [
    "!python make_predictions.py --templates train_sas --pretrained_weights experiments/test/sas/models/best_model.pth --dataset_code santander --max_len 70 --train_negative_sample_size 9"
   ],
   "execution_count": null,
   "outputs": []
  },
  {
   "cell_type": "markdown",
   "metadata": {
    "id": "CtQyedVz9kCw"
   },
   "source": [
    "Meantime\n"
   ]
  },
  {
   "cell_type": "code",
   "metadata": {
    "id": "waq8l3oL9mxL"
   },
   "source": [
    "!python run.py --templates train_meantime --dataset_code santander --num_epochs 20 --test_negative_sample_size 9 --metric_ks 1 5 --best_metric NDCG@5 --max_len 50"
   ],
   "execution_count": null,
   "outputs": []
  },
  {
   "cell_type": "code",
   "metadata": {
    "id": "B39tiUSa9xz_"
   },
   "source": [
    "!python make_predictions.py --templates train_meantime --pretrained_weights experiments/test/meantime/models/best_model.pth --test_negative_sample_size 9 --dataset_code santander --max_len 50"
   ],
   "execution_count": null,
   "outputs": []
  },
  {
   "cell_type": "markdown",
   "metadata": {
    "id": "YT0F0DpT_d5g"
   },
   "source": [
    "TISAS"
   ]
  },
  {
   "cell_type": "code",
   "metadata": {
    "id": "mico2CYa_jCa"
   },
   "source": [
    "!python run.py --templates train_tisas --dataset_code santander --num_epochs 5 --test_negative_sample_size 9 --train_negative_sample_size 1000 --metric_ks 1 5 --best_metric NDCG@5 --max_len 70"
   ],
   "execution_count": null,
   "outputs": []
  },
  {
   "cell_type": "code",
   "metadata": {
    "id": "aHT933lNAc14"
   },
   "source": [
    "!python make_predictions.py --templates train_tisas --pretrained_weights experiments/test/tisas/models/best_model.pth --dataset_code santander --max_len 70 --train_negative_sample_size 9"
   ],
   "execution_count": null,
   "outputs": []
  }
 ]
}